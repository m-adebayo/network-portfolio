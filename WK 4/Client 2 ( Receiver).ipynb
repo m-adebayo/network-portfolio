{
 "cells": [
  {
   "cell_type": "code",
   "execution_count": null,
   "metadata": {},
   "outputs": [
    {
     "name": "stdout",
     "output_type": "stream",
     "text": [
      "Client 2 is ready to reveive a message\n",
      "Received message: Test message. This message is from server ('127.0.0.1', 65433)\n"
     ]
    }
   ],
   "source": [
    "import socket\n",
    "\n",
    "receiver_socket = socket.socket(socket.AF_INET,socket.SOCK_DGRAM)\n",
    "receiver_socket.bind(('localhost', 65434))\n",
    "\n",
    "print(\"Client 2 is ready to reveive a message\")\n",
    "\n",
    "while True:\n",
    "    data, server_address = receiver_socket.recvfrom(2048)\n",
    "    print(f\"Received message: {data.decode()}. This message is from server {server_address}\")\n"
   ]
  }
 ],
 "metadata": {
  "kernelspec": {
   "display_name": "Python 3",
   "language": "python",
   "name": "python3"
  },
  "language_info": {
   "codemirror_mode": {
    "name": "ipython",
    "version": 3
   },
   "file_extension": ".py",
   "mimetype": "text/x-python",
   "name": "python",
   "nbconvert_exporter": "python",
   "pygments_lexer": "ipython3",
   "version": "3.13.2"
  }
 },
 "nbformat": 4,
 "nbformat_minor": 2
}
