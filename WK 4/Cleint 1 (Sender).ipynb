{
 "cells": [
  {
   "cell_type": "code",
   "execution_count": 1,
   "metadata": {},
   "outputs": [
    {
     "name": "stdout",
     "output_type": "stream",
     "text": [
      "Your message has been sent\n"
     ]
    }
   ],
   "source": [
    "import socket\n",
    "\n",
    "#Define the socket\n",
    "client_socket = socket.socket(socket.AF_INET, socket.SOCK_DGRAM)\n",
    "\n",
    "#Call the address of the server\n",
    "server_address = ('localhost', 65433)#\n",
    "\n",
    "#Allow the user to enter a message\n",
    "message = input(\"Enter your message\")\n",
    "\n",
    "#Send message to the server\n",
    "client_socket.sendto(message.encode(), server_address)\n",
    "\n",
    "#Let the user know the message is sent\n",
    "print(\"Your message has been sent\")\n",
    "client_socket.close()"
   ]
  }
 ],
 "metadata": {
  "kernelspec": {
   "display_name": "Python 3",
   "language": "python",
   "name": "python3"
  },
  "language_info": {
   "codemirror_mode": {
    "name": "ipython",
    "version": 3
   },
   "file_extension": ".py",
   "mimetype": "text/x-python",
   "name": "python",
   "nbconvert_exporter": "python",
   "pygments_lexer": "ipython3",
   "version": "3.13.2"
  }
 },
 "nbformat": 4,
 "nbformat_minor": 2
}
