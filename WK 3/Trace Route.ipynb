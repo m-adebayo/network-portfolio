{
 "cells": [
  {
   "cell_type": "code",
   "execution_count": null,
   "metadata": {},
   "outputs": [
    {
     "name": "stdout",
     "output_type": "stream",
     "text": [
      "\n",
      "Tracing route to google.co.uk [216.58.201.99]\n",
      "over a maximum of 30 hops:\n",
      "\n",
      "  1     8 ms    10 ms     7 ms  172.20.10.1 \n",
      "  2     *        *        *     Request timed out.\n",
      "  3     *       52 ms    32 ms  172.20.197.33 \n",
      "  4     *        *        *     Request timed out.\n",
      "  5     *        *        *     Request timed out.\n",
      "  6    42 ms    43 ms    39 ms  172.21.24.93 \n",
      "  7     *        *        *     Request timed out.\n",
      "  8    63 ms    45 ms    49 ms  172.20.231.146 \n",
      "  9     *        *        *     Request timed out.\n",
      " 10    51 ms    37 ms    31 ms  142.250.162.44 \n",
      " 11    56 ms    47 ms    41 ms  216.239.42.41 \n",
      " 12    50 ms    42 ms    55 ms  192.178.46.83 \n",
      " 13   144 ms   178 ms   120 ms  prg03s02-in-f3.1e100.net [216.58.201.99] \n",
      "\n",
      "Trace complete.\n",
      "\n"
     ]
    }
   ],
   "source": [
    "import subprocess\n",
    "def tracert(domain):\n",
    "    try:\n",
    "        result = subprocess.run([\"tracert\", domain], capture_output=True, text=True) #Ues the tracert command to trace the route that a packet takes to its destination\n",
    "        print(result.stdout)    #Prints the output of the tracert command\n",
    "    except FileNotFoundError:\n",
    "        print(\"tracert command not found. Make sure it's available.\")\n",
    "    except Exception as e: # Catching general exceptions for now\n",
    "        print(f\"An error occurred: {e}\")\n",
    "domain = input(\"Enter the website or IP address\") #Asks the user to enter the website or IP address\n",
    "tracert (domain) #Calls the tracert function with the domain as the argument\n",
    "\n",
    "\n",
    "\n",
    "# Tracert is used to trace the route that a packet takes to its destination. The output shows a list of the routers, or hops that the packets traveled to reach its destination. This will change based on what network you are connected to.\n"
   ]
  }
 ],
 "metadata": {
  "kernelspec": {
   "display_name": "Python 3",
   "language": "python",
   "name": "python3"
  },
  "language_info": {
   "codemirror_mode": {
    "name": "ipython",
    "version": 3
   },
   "file_extension": ".py",
   "mimetype": "text/x-python",
   "name": "python",
   "nbconvert_exporter": "python",
   "pygments_lexer": "ipython3",
   "version": "3.13.1"
  }
 },
 "nbformat": 4,
 "nbformat_minor": 2
}
