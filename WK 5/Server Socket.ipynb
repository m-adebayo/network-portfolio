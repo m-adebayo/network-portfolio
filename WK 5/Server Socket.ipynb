{
 "cells": [
  {
   "cell_type": "code",
   "execution_count": null,
   "metadata": {},
   "outputs": [
    {
     "name": "stdout",
     "output_type": "stream",
     "text": [
      "TCP Server is listening...\n",
      "Connected to ('127.0.0.1', 49267)\n",
      "Received: hello\n"
     ]
    }
   ],
   "source": [
    "import socket\n",
    "\n",
    "server_socket = socket.socket(socket.AF_INET,socket.SOCK_STREAM) # Define the socket, socket.SOCK_STREAM specifies TCP\n",
    "server_socket.bind(('localhost',65432)) # Associate the socket with a local address and port number\n",
    "server_socket.listen(1) # Allows 1 pending connection\n",
    "\n",
    "print(\"TCP Server is listening...\")\n",
    "\n",
    "while True:\n",
    "    client_socket, client_address = server_socket.accept() # Accept connection to the client socket\n",
    "    print(f\"Connected to {client_address}\")\n",
    "\n",
    "    with open('received_file.txt', 'wb') as f:\n",
    "        while True:\n",
    "            data = client_socket.recv(1024) # Define the data; receive in 1024 bits\n",
    "            print(f\"Received: {data.decode()}\") # Decode and output the data\n",
    "            #Echo the data\n",
    "            client_socket.send(b\"ACK \" + data) \n",
    "            if not data:\n",
    "                break\n",
    "            f.write(data)\n",
    "    print(\"File received!\")\n",
    "\n",
    "    client_socket.close()"
   ]
  }
 ],
 "metadata": {
  "kernelspec": {
   "display_name": "Python 3",
   "language": "python",
   "name": "python3"
  },
  "language_info": {
   "codemirror_mode": {
    "name": "ipython",
    "version": 3
   },
   "file_extension": ".py",
   "mimetype": "text/x-python",
   "name": "python",
   "nbconvert_exporter": "python",
   "pygments_lexer": "ipython3",
   "version": "3.13.2"
  }
 },
 "nbformat": 4,
 "nbformat_minor": 2
}
