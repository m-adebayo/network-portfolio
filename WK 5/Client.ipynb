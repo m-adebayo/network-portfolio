{
 "cells": [
  {
   "cell_type": "code",
   "execution_count": 4,
   "metadata": {},
   "outputs": [
    {
     "name": "stdout",
     "output_type": "stream",
     "text": [
      "Server response:ACK hello\n",
      "Time taken: 0:00:00.001473\n"
     ]
    }
   ],
   "source": [
    "import socket\n",
    "import datetime\n",
    "\n",
    "client_socket = socket.socket(socket.AF_INET, socket.SOCK_STREAM)\n",
    "client_socket.connect(('localhost',65432))\n",
    "\n",
    "message = input(\"Enter message\")\n",
    "client_socket.sendall(message.encode())\n",
    "time_start = datetime.datetime.now()\n",
    "\n",
    "response = client_socket.recv(1024)\n",
    "print(f\"Server response:{response.decode()}\")\n",
    "\n",
    "time_end = datetime.datetime.now()\n",
    "print(f'Time taken: {time_end - time_start}')\n",
    "\n"
   ]
  }
 ],
 "metadata": {
  "kernelspec": {
   "display_name": "Python 3",
   "language": "python",
   "name": "python3"
  },
  "language_info": {
   "codemirror_mode": {
    "name": "ipython",
    "version": 3
   },
   "file_extension": ".py",
   "mimetype": "text/x-python",
   "name": "python",
   "nbconvert_exporter": "python",
   "pygments_lexer": "ipython3",
   "version": "3.13.2"
  }
 },
 "nbformat": 4,
 "nbformat_minor": 2
}
