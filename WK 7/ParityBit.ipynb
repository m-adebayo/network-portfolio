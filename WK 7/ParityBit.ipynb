{
 "cells": [
  {
   "cell_type": "code",
   "execution_count": null,
   "metadata": {},
   "outputs": [],
   "source": [
    "#Function to compute even parity bit\n",
    "def compute_even_parity(data):\n",
    "    #Sum the data bits and take modulo 2.\n",
    "    #If sum is odd, parity bit is 1 (to make total even); if even, parity bit is 0\n",
    "    return sum(data) % 2\n",
    "\n",
    "#Original data bits\n",
    "data = [1,0,1,0,1,1,0,0,0,1,0,0,1,1,1,0,0,0,0,1]\n",
    "parity_bit = compute_even_parity(data)\n",
    "print(\"Parity bit (Even): \", parity_bit)\n",
    "print (\"Original data: \", data)\n",
    "\n",
    "#Transmitted data\n",
    "transmitted_data = data + [parity_bit]\n",
    "print(\"Transmitted data: \", transmitted_data)\n",
    "\n",
    "#This function simulates single-bit parity checking and a two dimentional parity check.\n",
    "#It takes the transmitted data as input and returns the corrected data.\n"
   ]
  }
 ],
 "metadata": {
  "language_info": {
   "name": "python"
  }
 },
 "nbformat": 4,
 "nbformat_minor": 2
}
