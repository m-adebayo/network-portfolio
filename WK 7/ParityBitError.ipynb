{
 "cells": [
  {
   "cell_type": "code",
   "execution_count": null,
   "metadata": {},
   "outputs": [
    {
     "name": "stdout",
     "output_type": "stream",
     "text": [
      "Parity bit (Even):  1\n",
      "Original data:  [1, 0, 1, 0, 1, 1, 0, 0, 0, 1, 0, 0, 1, 1, 1, 0, 0, 0, 0, 1]\n",
      "Transmitted data:  [1, 0, 1, 0, 1, 1, 0, 0, 0, 1, 0, 0, 1, 1, 1, 0, 0, 0, 0, 1, 1]\n",
      "\n",
      "Data with an Error Introduced at index 5 : [1, 0, 1, 0, 1, 0, 0, 0, 0, 1, 0, 0, 1, 1, 1, 0, 0, 0, 0, 1, 1]\n",
      "\n",
      "Error detected (Parity Check Failed)\n"
     ]
    }
   ],
   "source": [
    "#Function to compute even parity bit\n",
    "def compute_even_parity(data):\n",
    "    #Sum the data bits and take modulo 2.\n",
    "    #If sum is odd, parity bit is 1 (to make total even); if even, parity bit is 0\n",
    "    return sum(data) % 2\n",
    "\n",
    "#Original data bits\n",
    "data = [1,0,1,0,1,1,0,0,0,1,0,0,1,1,1,0,0,0,0,1]\n",
    "parity_bit = compute_even_parity(data)\n",
    "print(\"Parity bit (Even): \", parity_bit)\n",
    "print (\"Original data: \", data)\n",
    "\n",
    "#Transmitted data\n",
    "transmitted_data = data + [parity_bit]\n",
    "print(\"Transmitted data: \", transmitted_data)\n",
    "\n",
    "# Simulate an error: flip a bit in the transmitted data\n",
    "# For example, flip the bit at index 5 (0-indexed)\n",
    "error_index = 5\n",
    "data_with_error = transmitted_data.copy()\n",
    "data_with_error[error_index] = 1 - data_with_error[error_index]\n",
    "print(\"\\nData with an Error Introduced at index\", error_index, \":\",\n",
    "data_with_error)\n",
    "# At the receiver, perform the parity check.\n",
    "# For even parity, the sum of all bits should be even.\n",
    "if sum(data_with_error) % 2 == 0:\n",
    "    print(\"\\nNo error detected (Parity Check Passed)\")\n",
    "else:\n",
    "    print(\"\\nError detected (Parity Check Failed)\")\n",
    "\n",
    "#The additional code simulates error injection in data frames and checks for errors using the parity bit."
   ]
  }
 ],
 "metadata": {
  "kernelspec": {
   "display_name": "Python 3",
   "language": "python",
   "name": "python3"
  },
  "language_info": {
   "codemirror_mode": {
    "name": "ipython",
    "version": 3
   },
   "file_extension": ".py",
   "mimetype": "text/x-python",
   "name": "python",
   "nbconvert_exporter": "python",
   "pygments_lexer": "ipython3",
   "version": "3.13.2"
  }
 },
 "nbformat": 4,
 "nbformat_minor": 2
}
